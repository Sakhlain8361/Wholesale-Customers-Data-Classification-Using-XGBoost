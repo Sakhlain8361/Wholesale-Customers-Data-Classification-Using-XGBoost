{
 "cells": [
  {
   "cell_type": "markdown",
   "id": "2bcdf24d-2eb3-425c-bf18-29512b474b7e",
   "metadata": {},
   "source": [
    "## Wholesale Customers Data - XGBoost Classifier Report"
   ]
  },
  {
   "cell_type": "markdown",
   "id": "b9ccdf80-53a4-4326-90f6-43ca195dcc12",
   "metadata": {},
   "source": [
    "## 1. Introduction"
   ]
  },
  {
   "cell_type": "markdown",
   "id": "1275e823-7404-43ce-b20d-00da2ec30c1b",
   "metadata": {},
   "source": [
    "The goal of this project is to classify wholesale customers using an XGBoost Classifier. This report covers dataset analysis, preprocessing, model building, evaluation, and conclusions."
   ]
  },
  {
   "cell_type": "markdown",
   "id": "b9675877-2290-4e2c-8423-88192eb56303",
   "metadata": {},
   "source": [
    "## 2. Libraries Used"
   ]
  },
  {
   "cell_type": "code",
   "execution_count": 1,
   "id": "bf2e995b-0c55-403e-89b4-4b7adc4e4fbe",
   "metadata": {},
   "outputs": [],
   "source": [
    "import pandas as pd\n",
    "import numpy as np\n",
    "import seaborn as sns\n",
    "import xgboost as xgb\n",
    "from sklearn.model_selection import train_test_split\n",
    "from sklearn.metrics import accuracy_score, classification_report, confusion_matrix\n"
   ]
  },
  {
   "cell_type": "markdown",
   "id": "f42bbfb1-193e-43e8-9233-005894ef6118",
   "metadata": {},
   "source": [
    "## 3. Dataset Overview"
   ]
  },
  {
   "cell_type": "markdown",
   "id": "7cf50265-13a4-49f1-b7fa-a19a23d7fbac",
   "metadata": {},
   "source": [
    "The dataset is loaded using Pandas:"
   ]
  },
  {
   "cell_type": "code",
   "execution_count": 2,
   "id": "6dcdfd4b-6884-42f9-ae70-941996d00607",
   "metadata": {},
   "outputs": [],
   "source": [
    "data = pd.read_csv(r\"C:\\Users\\devad\\Downloads\\Wholesale customers data.csv\")"
   ]
  },
  {
   "cell_type": "markdown",
   "id": "2dbdd243-e958-4812-ab28-783e837dc159",
   "metadata": {},
   "source": [
    "### Columns in the Dataset:  \n",
    "\n",
    "- **Channel**: The target variable (1 or 2).  \n",
    "- **Region**: Geographical region of the customer.  \n",
    "- **Fresh, Milk, Grocery, Frozen, Detergents_Paper, Delicassen**: Different product categories and their purchase amounts.  \n",
    "\n",
    "### Relationships:  \n",
    "\n",
    "- Some features (e.g., **Grocery** and **Detergents_Paper**) are highly correlated, indicating a potential relationship between purchasing behaviors.  \n"
   ]
  },
  {
   "cell_type": "markdown",
   "id": "6dd563b9-5157-4fb9-ac00-45b6e17fed99",
   "metadata": {},
   "source": [
    "## 4. Data Analysis"
   ]
  },
  {
   "cell_type": "markdown",
   "id": "ff6c640b-ea0d-448e-9b65-5710535dfd4c",
   "metadata": {},
   "source": [
    "### Basic Info and Statistics"
   ]
  },
  {
   "cell_type": "code",
   "execution_count": 3,
   "id": "c8fefefa-fc1a-4e46-bc33-ebaf05b2bc47",
   "metadata": {},
   "outputs": [
    {
     "name": "stdout",
     "output_type": "stream",
     "text": [
      "<class 'pandas.core.frame.DataFrame'>\n",
      "RangeIndex: 440 entries, 0 to 439\n",
      "Data columns (total 8 columns):\n",
      " #   Column            Non-Null Count  Dtype\n",
      "---  ------            --------------  -----\n",
      " 0   Channel           440 non-null    int64\n",
      " 1   Region            440 non-null    int64\n",
      " 2   Fresh             440 non-null    int64\n",
      " 3   Milk              440 non-null    int64\n",
      " 4   Grocery           440 non-null    int64\n",
      " 5   Frozen            440 non-null    int64\n",
      " 6   Detergents_Paper  440 non-null    int64\n",
      " 7   Delicassen        440 non-null    int64\n",
      "dtypes: int64(8)\n",
      "memory usage: 27.6 KB\n"
     ]
    },
    {
     "data": {
      "text/html": [
       "<div>\n",
       "<style scoped>\n",
       "    .dataframe tbody tr th:only-of-type {\n",
       "        vertical-align: middle;\n",
       "    }\n",
       "\n",
       "    .dataframe tbody tr th {\n",
       "        vertical-align: top;\n",
       "    }\n",
       "\n",
       "    .dataframe thead th {\n",
       "        text-align: right;\n",
       "    }\n",
       "</style>\n",
       "<table border=\"1\" class=\"dataframe\">\n",
       "  <thead>\n",
       "    <tr style=\"text-align: right;\">\n",
       "      <th></th>\n",
       "      <th>Channel</th>\n",
       "      <th>Region</th>\n",
       "      <th>Fresh</th>\n",
       "      <th>Milk</th>\n",
       "      <th>Grocery</th>\n",
       "      <th>Frozen</th>\n",
       "      <th>Detergents_Paper</th>\n",
       "      <th>Delicassen</th>\n",
       "    </tr>\n",
       "  </thead>\n",
       "  <tbody>\n",
       "    <tr>\n",
       "      <th>count</th>\n",
       "      <td>440.000000</td>\n",
       "      <td>440.000000</td>\n",
       "      <td>440.000000</td>\n",
       "      <td>440.000000</td>\n",
       "      <td>440.000000</td>\n",
       "      <td>440.000000</td>\n",
       "      <td>440.000000</td>\n",
       "      <td>440.000000</td>\n",
       "    </tr>\n",
       "    <tr>\n",
       "      <th>mean</th>\n",
       "      <td>1.322727</td>\n",
       "      <td>2.543182</td>\n",
       "      <td>12000.297727</td>\n",
       "      <td>5796.265909</td>\n",
       "      <td>7951.277273</td>\n",
       "      <td>3071.931818</td>\n",
       "      <td>2881.493182</td>\n",
       "      <td>1524.870455</td>\n",
       "    </tr>\n",
       "    <tr>\n",
       "      <th>std</th>\n",
       "      <td>0.468052</td>\n",
       "      <td>0.774272</td>\n",
       "      <td>12647.328865</td>\n",
       "      <td>7380.377175</td>\n",
       "      <td>9503.162829</td>\n",
       "      <td>4854.673333</td>\n",
       "      <td>4767.854448</td>\n",
       "      <td>2820.105937</td>\n",
       "    </tr>\n",
       "    <tr>\n",
       "      <th>min</th>\n",
       "      <td>1.000000</td>\n",
       "      <td>1.000000</td>\n",
       "      <td>3.000000</td>\n",
       "      <td>55.000000</td>\n",
       "      <td>3.000000</td>\n",
       "      <td>25.000000</td>\n",
       "      <td>3.000000</td>\n",
       "      <td>3.000000</td>\n",
       "    </tr>\n",
       "    <tr>\n",
       "      <th>25%</th>\n",
       "      <td>1.000000</td>\n",
       "      <td>2.000000</td>\n",
       "      <td>3127.750000</td>\n",
       "      <td>1533.000000</td>\n",
       "      <td>2153.000000</td>\n",
       "      <td>742.250000</td>\n",
       "      <td>256.750000</td>\n",
       "      <td>408.250000</td>\n",
       "    </tr>\n",
       "    <tr>\n",
       "      <th>50%</th>\n",
       "      <td>1.000000</td>\n",
       "      <td>3.000000</td>\n",
       "      <td>8504.000000</td>\n",
       "      <td>3627.000000</td>\n",
       "      <td>4755.500000</td>\n",
       "      <td>1526.000000</td>\n",
       "      <td>816.500000</td>\n",
       "      <td>965.500000</td>\n",
       "    </tr>\n",
       "    <tr>\n",
       "      <th>75%</th>\n",
       "      <td>2.000000</td>\n",
       "      <td>3.000000</td>\n",
       "      <td>16933.750000</td>\n",
       "      <td>7190.250000</td>\n",
       "      <td>10655.750000</td>\n",
       "      <td>3554.250000</td>\n",
       "      <td>3922.000000</td>\n",
       "      <td>1820.250000</td>\n",
       "    </tr>\n",
       "    <tr>\n",
       "      <th>max</th>\n",
       "      <td>2.000000</td>\n",
       "      <td>3.000000</td>\n",
       "      <td>112151.000000</td>\n",
       "      <td>73498.000000</td>\n",
       "      <td>92780.000000</td>\n",
       "      <td>60869.000000</td>\n",
       "      <td>40827.000000</td>\n",
       "      <td>47943.000000</td>\n",
       "    </tr>\n",
       "  </tbody>\n",
       "</table>\n",
       "</div>"
      ],
      "text/plain": [
       "          Channel      Region          Fresh          Milk       Grocery  \\\n",
       "count  440.000000  440.000000     440.000000    440.000000    440.000000   \n",
       "mean     1.322727    2.543182   12000.297727   5796.265909   7951.277273   \n",
       "std      0.468052    0.774272   12647.328865   7380.377175   9503.162829   \n",
       "min      1.000000    1.000000       3.000000     55.000000      3.000000   \n",
       "25%      1.000000    2.000000    3127.750000   1533.000000   2153.000000   \n",
       "50%      1.000000    3.000000    8504.000000   3627.000000   4755.500000   \n",
       "75%      2.000000    3.000000   16933.750000   7190.250000  10655.750000   \n",
       "max      2.000000    3.000000  112151.000000  73498.000000  92780.000000   \n",
       "\n",
       "             Frozen  Detergents_Paper    Delicassen  \n",
       "count    440.000000        440.000000    440.000000  \n",
       "mean    3071.931818       2881.493182   1524.870455  \n",
       "std     4854.673333       4767.854448   2820.105937  \n",
       "min       25.000000          3.000000      3.000000  \n",
       "25%      742.250000        256.750000    408.250000  \n",
       "50%     1526.000000        816.500000    965.500000  \n",
       "75%     3554.250000       3922.000000   1820.250000  \n",
       "max    60869.000000      40827.000000  47943.000000  "
      ]
     },
     "execution_count": 3,
     "metadata": {},
     "output_type": "execute_result"
    }
   ],
   "source": [
    "data.info()\n",
    "data.describe()\n"
   ]
  },
  {
   "cell_type": "markdown",
   "id": "5f72db58-ba2c-4d03-8478-12fd5f2ef4a9",
   "metadata": {},
   "source": [
    "- **No null values** are found in the dataset.\n",
    "- The dataset contains **440 rows and 8 columns**."
   ]
  },
  {
   "cell_type": "markdown",
   "id": "14f77703-9a1a-46ce-85e0-e232adab7fa5",
   "metadata": {},
   "source": [
    "## Checking for Null Values"
   ]
  },
  {
   "cell_type": "code",
   "execution_count": 4,
   "id": "f23da732-aee8-4a5f-8466-20c14f8d6f61",
   "metadata": {},
   "outputs": [
    {
     "data": {
      "text/plain": [
       "Channel             0\n",
       "Region              0\n",
       "Fresh               0\n",
       "Milk                0\n",
       "Grocery             0\n",
       "Frozen              0\n",
       "Detergents_Paper    0\n",
       "Delicassen          0\n",
       "dtype: int64"
      ]
     },
     "execution_count": 4,
     "metadata": {},
     "output_type": "execute_result"
    }
   ],
   "source": [
    "data.isnull().sum()\n"
   ]
  },
  {
   "cell_type": "markdown",
   "id": "00b374ad-e323-46a7-a1e5-3ffdf82a638e",
   "metadata": {},
   "source": [
    "## 5. Data Preprocessing\n",
    "\n",
    "\n",
    "### Feature and Target Selection"
   ]
  },
  {
   "cell_type": "code",
   "execution_count": 5,
   "id": "f42666de-5f55-4c2d-9a0f-7a9fbac6e9d1",
   "metadata": {},
   "outputs": [],
   "source": [
    "x = data.drop(['Channel'], axis=1)\n",
    "y = data['Channel']\n"
   ]
  },
  {
   "cell_type": "markdown",
   "id": "1279d849-fe1e-4e2d-9b78-5c725e6b3ef9",
   "metadata": {},
   "source": [
    "- **X (features)**: All columns except `Channel`\n",
    "\n",
    "- **Y (target variable)**: `Channel`"
   ]
  },
  {
   "cell_type": "markdown",
   "id": "d323db56-39d8-4557-88cf-45710ddec2c7",
   "metadata": {},
   "source": [
    "### Splitting the Data"
   ]
  },
  {
   "cell_type": "code",
   "execution_count": 6,
   "id": "e3d4438f-ab44-4a01-9c79-83128193c413",
   "metadata": {},
   "outputs": [],
   "source": [
    "x_train, x_test, y_train, y_test = train_test_split(x, y, test_size=0.3, random_state=0)"
   ]
  },
  {
   "cell_type": "markdown",
   "id": "b4b5547c-57e1-4537-a258-5d88d51553bc",
   "metadata": {},
   "source": [
    "- 70% training data, 30% testing data."
   ]
  },
  {
   "cell_type": "markdown",
   "id": "e27775a1-d392-4fc9-922b-34b4ef5f0cdc",
   "metadata": {},
   "source": [
    "## 6. Model Building"
   ]
  },
  {
   "cell_type": "markdown",
   "id": "4451d625-627f-4d1b-b24c-8e33907d38c4",
   "metadata": {},
   "source": [
    "### Initializing and Training the XGBoost Classifier"
   ]
  },
  {
   "cell_type": "code",
   "execution_count": null,
   "id": "bd4503ba-1ed3-446f-88a2-875603129f10",
   "metadata": {},
   "outputs": [],
   "source": [
    "from xgboost import XGBClassifier\n",
    "\n",
    "params = {\n",
    "    'objective': 'binary:logistic',\n",
    "    'max_depth': 4,\n",
    "    'alpha': 10,\n",
    "    'learning_rate': 0.1,\n",
    "    'n_estimators': 100\n",
    "}\n",
    "\n",
    "xgb_clf = XGBClassifier(**params)\n",
    "xgb_clf.fit(x_train, y_train)\n"
   ]
  },
  {
   "cell_type": "markdown",
   "id": "0915a249-7f4b-49d3-94c9-9bf6e75f8bdf",
   "metadata": {},
   "source": [
    "### Predictions"
   ]
  },
  {
   "cell_type": "code",
   "execution_count": null,
   "id": "d923c76e-44ef-4fac-9804-a3850729f8c5",
   "metadata": {},
   "outputs": [],
   "source": [
    "y_pred = xgb_clf.predict(x_test)"
   ]
  },
  {
   "cell_type": "markdown",
   "id": "299906eb-7de0-4ce3-88e3-0cd907c1fdce",
   "metadata": {},
   "source": [
    "## 7. Model Evaluation"
   ]
  },
  {
   "cell_type": "markdown",
   "id": "4755ee30-7222-4ce8-ab0d-4c208e67fc0b",
   "metadata": {},
   "source": [
    "### Accuracy Score"
   ]
  },
  {
   "cell_type": "code",
   "execution_count": null,
   "id": "b3c01f8d-37d8-477a-acd5-23dbeeceb127",
   "metadata": {},
   "outputs": [],
   "source": [
    "accuracy = accuracy_score(y_test, y_pred) * 100\n",
    "print(\"The Accuracy Score:\", accuracy)\n"
   ]
  },
  {
   "cell_type": "markdown",
   "id": "83b7fa1d-0034-4f32-bcea-e46899c4ffda",
   "metadata": {},
   "source": [
    "Accuracy: 87.88%"
   ]
  }
 ],
 "metadata": {
  "kernelspec": {
   "display_name": "Python 3 (ipykernel)",
   "language": "python",
   "name": "python3"
  },
  "language_info": {
   "codemirror_mode": {
    "name": "ipython",
    "version": 3
   },
   "file_extension": ".py",
   "mimetype": "text/x-python",
   "name": "python",
   "nbconvert_exporter": "python",
   "pygments_lexer": "ipython3",
   "version": "3.12.4"
  }
 },
 "nbformat": 4,
 "nbformat_minor": 5
}
